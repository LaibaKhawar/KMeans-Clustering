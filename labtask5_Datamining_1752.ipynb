{
 "cells": [
  {
   "cell_type": "code",
   "execution_count": 20,
   "id": "43097ee1",
   "metadata": {},
   "outputs": [
    {
     "name": "stdout",
     "output_type": "stream",
     "text": [
      "   PassengerId  Survived  Pclass  \\\n",
      "0            1         0       3   \n",
      "1            2         1       1   \n",
      "2            3         1       3   \n",
      "3            4         1       1   \n",
      "4            5         0       3   \n",
      "\n",
      "                                                Name     Sex   Age  SibSp  \\\n",
      "0                            Braund, Mr. Owen Harris    male  22.0      1   \n",
      "1  Cumings, Mrs. John Bradley (Florence Briggs Th...  female  38.0      1   \n",
      "2                             Heikkinen, Miss. Laina  female  26.0      0   \n",
      "3       Futrelle, Mrs. Jacques Heath (Lily May Peel)  female  35.0      1   \n",
      "4                           Allen, Mr. William Henry    male  35.0      0   \n",
      "\n",
      "   Parch            Ticket     Fare Cabin Embarked  \n",
      "0      0         A/5 21171   7.2500   NaN        S  \n",
      "1      0          PC 17599  71.2833   C85        C  \n",
      "2      0  STON/O2. 3101282   7.9250   NaN        S  \n",
      "3      0            113803  53.1000  C123        S  \n",
      "4      0            373450   8.0500   NaN        S  \n"
     ]
    }
   ],
   "source": [
    "import pandas as pd\n",
    "from sklearn.impute import SimpleImputer\n",
    "from sklearn.preprocessing import LabelEncoder\n",
    "import numpy as np\n",
    "\n",
    "# Load the dataset\n",
    "file_path = 'Data.csv'  \n",
    "data = pd.read_csv(file_path)\n",
    "print(data.head())"
   ]
  },
  {
   "cell_type": "code",
   "execution_count": 12,
   "id": "62523c17",
   "metadata": {},
   "outputs": [
    {
     "name": "stdout",
     "output_type": "stream",
     "text": [
      " Missing total values before:  \n",
      "PassengerId      0\n",
      "Survived         0\n",
      "Pclass           0\n",
      "Name             0\n",
      "Sex              0\n",
      "Age            177\n",
      "SibSp            0\n",
      "Parch            0\n",
      "Ticket           0\n",
      "Fare             0\n",
      "Cabin          687\n",
      "Embarked         2\n",
      "dtype: int64\n",
      " Missing values after:  \n",
      "PassengerId      0\n",
      "Survived         0\n",
      "Pclass           0\n",
      "Name             0\n",
      "Sex              0\n",
      "Age              0\n",
      "SibSp            0\n",
      "Parch            0\n",
      "Ticket           0\n",
      "Fare             0\n",
      "Cabin          687\n",
      "Embarked         2\n",
      "dtype: int64\n"
     ]
    }
   ],
   "source": [
    "# Data Cleaning\n",
    "# Impute missing values for 'Age' and 'Fare' with their median values\n",
    "# This helps in dealing with missing numerical data without dropping rows or columns\n",
    "missing_values_count = data.isnull().sum()\n",
    "print(\" Missing total values before:  \")\n",
    "print(missing_values_count)\n",
    "imputer_age_fare = SimpleImputer(strategy='median')\n",
    "data[['Age', 'Fare']] = imputer_age_fare.fit_transform(data[['Age', 'Fare']])\n",
    "missing_values_count = data.isnull().sum()\n",
    "print(\" Missing values after:  \")\n",
    "print(missing_values_count)"
   ]
  },
  {
   "cell_type": "code",
   "execution_count": 13,
   "id": "2475f22a",
   "metadata": {},
   "outputs": [
    {
     "name": "stdout",
     "output_type": "stream",
     "text": [
      " Missing of Embarked values before:  \n",
      "2\n",
      " Missing of Embarked values after:  \n",
      "0\n"
     ]
    }
   ],
   "source": [
    "# Impute missing values for 'Embarked' with the mode (most frequent value)\n",
    "# This is suitable for categorical columns where the most common category can be a good guess\n",
    "missing_values_embarked = data['Embarked'].isnull().sum()\n",
    "print(\" Missing of Embarked values before:  \")\n",
    "print(missing_values_embarked)\n",
    "\n",
    "imputer_embarked = SimpleImputer(strategy='most_frequent')\n",
    "data['Embarked'] = imputer_embarked.fit_transform(data[['Embarked']])\n",
    "\n",
    "\n",
    "missing_values_embarked = data['Embarked'].isnull().sum()\n",
    "print(\" Missing of Embarked values after:  \")\n",
    "print(missing_values_embarked)"
   ]
  },
  {
   "cell_type": "code",
   "execution_count": 14,
   "id": "0a0cfa9e",
   "metadata": {},
   "outputs": [
    {
     "name": "stdout",
     "output_type": "stream",
     "text": [
      "Before adding 'FamilySize':\n",
      "   SibSp  Parch\n",
      "0      1      0\n",
      "1      1      0\n",
      "2      0      0\n",
      "3      1      0\n",
      "4      0      0\n",
      "\n",
      "After adding 'FamilySize':\n",
      "   SibSp  Parch  FamilySize\n",
      "0      1      0           2\n",
      "1      1      0           2\n",
      "2      0      0           1\n",
      "3      1      0           2\n",
      "4      0      0           1\n"
     ]
    }
   ],
   "source": [
    "# Feature Engineering\n",
    "\n",
    "# Creating FamilySize feature by adding 'SibSp' (siblings/spouses aboard) and 'Parch' (parents/children aboard)\n",
    "# This feature represents the total number of family members on board\n",
    "print(\"Before adding 'FamilySize':\")\n",
    "print(data[['SibSp', 'Parch']].head())\n",
    "data['FamilySize'] = data['SibSp'] + data['Parch'] + 1\n",
    "print(\"\\nAfter adding 'FamilySize':\")\n",
    "print(data[['SibSp', 'Parch', 'FamilySize']].head())\n"
   ]
  },
  {
   "cell_type": "code",
   "execution_count": 15,
   "id": "e8bd8f39",
   "metadata": {},
   "outputs": [
    {
     "name": "stdout",
     "output_type": "stream",
     "text": [
      "\n",
      "Before extracting 'Title':\n",
      "                                                Name\n",
      "0                            Braund, Mr. Owen Harris\n",
      "1  Cumings, Mrs. John Bradley (Florence Briggs Th...\n",
      "2                             Heikkinen, Miss. Laina\n",
      "3       Futrelle, Mrs. Jacques Heath (Lily May Peel)\n",
      "4                           Allen, Mr. William Henry\n",
      "\n",
      "After extracting 'Title':\n",
      "                                                Name Title\n",
      "0                            Braund, Mr. Owen Harris    Mr\n",
      "1  Cumings, Mrs. John Bradley (Florence Briggs Th...   Mrs\n",
      "2                             Heikkinen, Miss. Laina  Miss\n",
      "3       Futrelle, Mrs. Jacques Heath (Lily May Peel)   Mrs\n",
      "4                           Allen, Mr. William Henry    Mr\n"
     ]
    }
   ],
   "source": [
    "# Extracting Title from the Name column using regular expression\n",
    "# The regex ' ([A-Za-z]+)\\.' captures any word that ends with a dot, which is typical for titles\n",
    "print(\"\\nBefore extracting 'Title':\")\n",
    "print(data[['Name']].head())\n",
    "data['Title'] = data['Name'].str.extract(' ([A-Za-z]+)\\.', expand=False)\n",
    "print(\"\\nAfter extracting 'Title':\")\n",
    "print(data[['Name', 'Title']].head())\n"
   ]
  },
  {
   "cell_type": "code",
   "execution_count": 16,
   "id": "04c16660",
   "metadata": {},
   "outputs": [
    {
     "name": "stdout",
     "output_type": "stream",
     "text": [
      "\n",
      "Before grouping 'Age' into categories:\n",
      "    Age\n",
      "0  22.0\n",
      "1  38.0\n",
      "2  26.0\n",
      "3  35.0\n",
      "4  35.0\n",
      "\n",
      "After grouping 'Age' into categories:\n",
      "    Age AgeGroup\n",
      "0  22.0    Adult\n",
      "1  38.0    Adult\n",
      "2  26.0    Adult\n",
      "3  35.0    Adult\n",
      "4  35.0    Adult\n"
     ]
    }
   ],
   "source": [
    "# Grouping Age into categories: Child, Adult, Senior\n",
    "# This is done by defining bins and labels and then categorizing each passenger into these groups\n",
    "print(\"\\nBefore grouping 'Age' into categories:\")\n",
    "print(data[['Age']].head())\n",
    "bins = [0, 12, 60, np.inf]\n",
    "labels = ['Child', 'Adult', 'Senior']\n",
    "data['AgeGroup'] = pd.cut(data['Age'], bins=bins, labels=labels, right=False)\n",
    "print(\"\\nAfter grouping 'Age' into categories:\")\n",
    "print(data[['Age', 'AgeGroup']].head())\n"
   ]
  },
  {
   "cell_type": "code",
   "execution_count": 17,
   "id": "d05f8da4",
   "metadata": {},
   "outputs": [
    {
     "name": "stdout",
     "output_type": "stream",
     "text": [
      "\n",
      "Before calculating 'FarePerPerson':\n",
      "      Fare  FamilySize\n",
      "0   7.2500           2\n",
      "1  71.2833           2\n",
      "2   7.9250           1\n",
      "3  53.1000           2\n",
      "4   8.0500           1\n",
      "\n",
      "After calculating 'FarePerPerson':\n",
      "      Fare  FamilySize  FarePerPerson\n",
      "0   7.2500           2        3.62500\n",
      "1  71.2833           2       35.64165\n",
      "2   7.9250           1        7.92500\n",
      "3  53.1000           2       26.55000\n",
      "4   8.0500           1        8.05000\n"
     ]
    }
   ],
   "source": [
    "# Calculating Fare per Person by dividing the Fare by FamilySize\n",
    "# This gives a more accurate representation of the fare each passenger effectively paid\n",
    "print(\"\\nBefore calculating 'FarePerPerson':\")\n",
    "print(data[['Fare', 'FamilySize']].head())\n",
    "data['FarePerPerson'] = data['Fare'] / data['FamilySize']\n",
    "print(\"\\nAfter calculating 'FarePerPerson':\")\n",
    "print(data[['Fare', 'FamilySize', 'FarePerPerson']].head())\n"
   ]
  },
  {
   "cell_type": "code",
   "execution_count": 18,
   "id": "1004f865",
   "metadata": {},
   "outputs": [
    {
     "name": "stdout",
     "output_type": "stream",
     "text": [
      "\n",
      "Before label encoding 'Sex' and 'Embarked':\n",
      "      Sex Embarked\n",
      "0    male        S\n",
      "1  female        C\n",
      "2  female        S\n",
      "3  female        S\n",
      "4    male        S\n",
      "\n",
      "After label encoding 'Sex' and 'Embarked':\n",
      "   Sex  Embarked\n",
      "0    1         2\n",
      "1    0         0\n",
      "2    0         2\n",
      "3    0         2\n",
      "4    1         2\n"
     ]
    }
   ],
   "source": [
    "# Label Encoding for categorical features ('Sex', 'Embarked')\n",
    "# Converts categories into numerical values which are needed for most machine learning models\n",
    "print(\"\\nBefore label encoding 'Sex' and 'Embarked':\")\n",
    "print(data[['Sex', 'Embarked']].head())\n",
    "le_sex = LabelEncoder()\n",
    "data['Sex'] = le_sex.fit_transform(data['Sex'])\n",
    "le_embarked = LabelEncoder()\n",
    "data['Embarked'] = le_embarked.fit_transform(data['Embarked'])\n",
    "print(\"\\nAfter label encoding 'Sex' and 'Embarked':\")\n",
    "print(data[['Sex', 'Embarked']].head())\n"
   ]
  },
  {
   "cell_type": "code",
   "execution_count": 19,
   "id": "afaa0a0f",
   "metadata": {},
   "outputs": [
    {
     "name": "stdout",
     "output_type": "stream",
     "text": [
      "   PassengerId  Survived  Pclass  \\\n",
      "0            1         0       3   \n",
      "1            2         1       1   \n",
      "2            3         1       3   \n",
      "3            4         1       1   \n",
      "4            5         0       3   \n",
      "\n",
      "                                                Name  Sex   Age  SibSp  Parch  \\\n",
      "0                            Braund, Mr. Owen Harris    1  22.0      1      0   \n",
      "1  Cumings, Mrs. John Bradley (Florence Briggs Th...    0  38.0      1      0   \n",
      "2                             Heikkinen, Miss. Laina    0  26.0      0      0   \n",
      "3       Futrelle, Mrs. Jacques Heath (Lily May Peel)    0  35.0      1      0   \n",
      "4                           Allen, Mr. William Henry    1  35.0      0      0   \n",
      "\n",
      "             Ticket     Fare Cabin  Embarked  FamilySize Title AgeGroup  \\\n",
      "0         A/5 21171   7.2500   NaN         2           2    Mr    Adult   \n",
      "1          PC 17599  71.2833   C85         0           2   Mrs    Adult   \n",
      "2  STON/O2. 3101282   7.9250   NaN         2           1  Miss    Adult   \n",
      "3            113803  53.1000  C123         2           2   Mrs    Adult   \n",
      "4            373450   8.0500   NaN         2           1    Mr    Adult   \n",
      "\n",
      "   FarePerPerson  \n",
      "0        3.62500  \n",
      "1       35.64165  \n",
      "2        7.92500  \n",
      "3       26.55000  \n",
      "4        8.05000  \n"
     ]
    }
   ],
   "source": [
    "# Display the first few rows of the updated dataset to verify the changes\n",
    "print(data.head())"
   ]
  },
  {
   "cell_type": "code",
   "execution_count": null,
   "id": "47eec173",
   "metadata": {},
   "outputs": [],
   "source": []
  }
 ],
 "metadata": {
  "kernelspec": {
   "display_name": "Python 3 (ipykernel)",
   "language": "python",
   "name": "python3"
  },
  "language_info": {
   "codemirror_mode": {
    "name": "ipython",
    "version": 3
   },
   "file_extension": ".py",
   "mimetype": "text/x-python",
   "name": "python",
   "nbconvert_exporter": "python",
   "pygments_lexer": "ipython3",
   "version": "3.9.12"
  }
 },
 "nbformat": 4,
 "nbformat_minor": 5
}
