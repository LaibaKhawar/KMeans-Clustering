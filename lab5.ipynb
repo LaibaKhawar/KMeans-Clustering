{
 "cells": [
  {
   "cell_type": "code",
   "execution_count": 9,
   "metadata": {},
   "outputs": [
    {
     "name": "stdout",
     "output_type": "stream",
     "text": [
      "   PassengerId  Survived  Pclass  \\\n",
      "0            1         0       3   \n",
      "1            2         1       1   \n",
      "2            3         1       3   \n",
      "3            4         1       1   \n",
      "4            5         0       3   \n",
      "\n",
      "                                                Name     Sex   Age  SibSp  \\\n",
      "0                            Braund, Mr. Owen Harris    male  22.0      1   \n",
      "1  Cumings, Mrs. John Bradley (Florence Briggs Th...  female  38.0      1   \n",
      "2                             Heikkinen, Miss. Laina  female  26.0      0   \n",
      "3       Futrelle, Mrs. Jacques Heath (Lily May Peel)  female  35.0      1   \n",
      "4                           Allen, Mr. William Henry    male  35.0      0   \n",
      "\n",
      "   Parch            Ticket     Fare Cabin Embarked  \n",
      "0      0         A/5 21171   7.2500   NaN        S  \n",
      "1      0          PC 17599  71.2833   C85        C  \n",
      "2      0  STON/O2. 3101282   7.9250   NaN        S  \n",
      "3      0            113803  53.1000  C123        S  \n",
      "4      0            373450   8.0500   NaN        S  \n"
     ]
    }
   ],
   "source": [
    "import pandas as pd\n",
    "from sklearn.impute import SimpleImputer\n",
    "from sklearn.preprocessing import LabelEncoder\n",
    "import numpy as np\n",
    "\n",
    "# Load the dataset\n",
    "file_path = 'DSB_Day1_Titanic_train.csv'  \n",
    "data = pd.read_csv(file_path)\n",
    "print(data.head())"
   ]
  },
  {
   "cell_type": "code",
   "execution_count": 10,
   "metadata": {},
   "outputs": [
    {
     "name": "stdout",
     "output_type": "stream",
     "text": [
      " Missing total values before:  \n",
      "PassengerId      0\n",
      "Survived         0\n",
      "Pclass           0\n",
      "Name             0\n",
      "Sex              0\n",
      "Age            177\n",
      "SibSp            0\n",
      "Parch            0\n",
      "Ticket           0\n",
      "Fare             0\n",
      "Cabin          687\n",
      "Embarked         2\n",
      "dtype: int64\n",
      " Missing values after:  \n",
      "PassengerId      0\n",
      "Survived         0\n",
      "Pclass           0\n",
      "Name             0\n",
      "Sex              0\n",
      "Age              0\n",
      "SibSp            0\n",
      "Parch            0\n",
      "Ticket           0\n",
      "Fare             0\n",
      "Cabin          687\n",
      "Embarked         2\n",
      "dtype: int64\n"
     ]
    }
   ],
   "source": [
    "missing_values_count = data.isnull().sum()\n",
    "print(\" Missing total values before:  \")\n",
    "print(missing_values_count)\n",
    "imputer_age_fare = SimpleImputer(strategy='median')\n",
    "data[['Age', 'Fare']] = imputer_age_fare.fit_transform(data[['Age', 'Fare']])\n",
    "missing_values_count = data.isnull().sum()\n",
    "print(\" Missing values after:  \")\n",
    "print(missing_values_count)"
   ]
  },
  {
   "cell_type": "code",
   "execution_count": 11,
   "metadata": {},
   "outputs": [
    {
     "name": "stdout",
     "output_type": "stream",
     "text": [
      " Missing of Embarked values before:  \n",
      "2\n",
      " Missing of Embarked values after:  \n",
      "0\n"
     ]
    }
   ],
   "source": [
    "missing_values_embarked = data['Embarked'].isnull().sum()\n",
    "print(\" Missing of Embarked values before:  \")\n",
    "print(missing_values_embarked)\n",
    "\n",
    "imputer_embarked = SimpleImputer(strategy='most_frequent')\n",
    "data['Embarked'] = imputer_embarked.fit_transform(data[['Embarked']])\n",
    "\n",
    "\n",
    "missing_values_embarked = data['Embarked'].isnull().sum()\n",
    "print(\" Missing of Embarked values after:  \")\n",
    "print(missing_values_embarked)"
   ]
  },
  {
   "cell_type": "code",
   "execution_count": 12,
   "metadata": {},
   "outputs": [
    {
     "name": "stdout",
     "output_type": "stream",
     "text": [
      "Before adding 'FamilySize':\n",
      "   SibSp  Parch\n",
      "0      1      0\n",
      "1      1      0\n",
      "2      0      0\n",
      "3      1      0\n",
      "4      0      0\n",
      "\n",
      "After adding 'FamilySize':\n",
      "   SibSp  Parch  FamilySize\n",
      "0      1      0           2\n",
      "1      1      0           2\n",
      "2      0      0           1\n",
      "3      1      0           2\n",
      "4      0      0           1\n"
     ]
    }
   ],
   "source": [
    "print(\"Before adding 'FamilySize':\")\n",
    "print(data[['SibSp', 'Parch']].head())\n",
    "data['FamilySize'] = data['SibSp'] + data['Parch'] + 1\n",
    "print(\"\\nAfter adding 'FamilySize':\")\n",
    "print(data[['SibSp', 'Parch', 'FamilySize']].head())"
   ]
  },
  {
   "cell_type": "code",
   "execution_count": 13,
   "metadata": {},
   "outputs": [
    {
     "name": "stdout",
     "output_type": "stream",
     "text": [
      "\n",
      "Before extracting 'Title':\n",
      "                                                Name\n",
      "0                            Braund, Mr. Owen Harris\n",
      "1  Cumings, Mrs. John Bradley (Florence Briggs Th...\n",
      "2                             Heikkinen, Miss. Laina\n",
      "3       Futrelle, Mrs. Jacques Heath (Lily May Peel)\n",
      "4                           Allen, Mr. William Henry\n",
      "\n",
      "After extracting 'Title':\n",
      "                                                Name Title\n",
      "0                            Braund, Mr. Owen Harris    Mr\n",
      "1  Cumings, Mrs. John Bradley (Florence Briggs Th...   Mrs\n",
      "2                             Heikkinen, Miss. Laina  Miss\n",
      "3       Futrelle, Mrs. Jacques Heath (Lily May Peel)   Mrs\n",
      "4                           Allen, Mr. William Henry    Mr\n"
     ]
    }
   ],
   "source": [
    "print(\"\\nBefore extracting 'Title':\")\n",
    "print(data[['Name']].head())\n",
    "data['Title'] = data['Name'].str.extract(' ([A-Za-z]+)\\.', expand=False)\n",
    "print(\"\\nAfter extracting 'Title':\")\n",
    "print(data[['Name', 'Title']].head())"
   ]
  },
  {
   "cell_type": "code",
   "execution_count": 14,
   "metadata": {},
   "outputs": [
    {
     "name": "stdout",
     "output_type": "stream",
     "text": [
      "\n",
      "Before grouping 'Age' into categories:\n",
      "    Age\n",
      "0  22.0\n",
      "1  38.0\n",
      "2  26.0\n",
      "3  35.0\n",
      "4  35.0\n",
      "\n",
      "After grouping 'Age' into categories:\n",
      "    Age AgeGroup\n",
      "0  22.0    Adult\n",
      "1  38.0    Adult\n",
      "2  26.0    Adult\n",
      "3  35.0    Adult\n",
      "4  35.0    Adult\n"
     ]
    }
   ],
   "source": [
    "print(\"\\nBefore grouping 'Age' into categories:\")\n",
    "print(data[['Age']].head())\n",
    "bins = [0, 12, 60, np.inf]\n",
    "labels = ['Child', 'Adult', 'Senior']\n",
    "data['AgeGroup'] = pd.cut(data['Age'], bins=bins, labels=labels, right=False)\n",
    "print(\"\\nAfter grouping 'Age' into categories:\")\n",
    "print(data[['Age', 'AgeGroup']].head())"
   ]
  },
  {
   "cell_type": "code",
   "execution_count": 15,
   "metadata": {},
   "outputs": [
    {
     "name": "stdout",
     "output_type": "stream",
     "text": [
      "\n",
      "Before label encoding 'Sex' and 'Embarked':\n",
      "      Sex Embarked\n",
      "0    male        S\n",
      "1  female        C\n",
      "2  female        S\n",
      "3  female        S\n",
      "4    male        S\n",
      "\n",
      "After label encoding 'Sex' and 'Embarked':\n",
      "   Sex  Embarked\n",
      "0    1         2\n",
      "1    0         0\n",
      "2    0         2\n",
      "3    0         2\n",
      "4    1         2\n"
     ]
    }
   ],
   "source": [
    "print(\"\\nBefore label encoding 'Sex' and 'Embarked':\")\n",
    "print(data[['Sex', 'Embarked']].head())\n",
    "le_sex = LabelEncoder()\n",
    "data['Sex'] = le_sex.fit_transform(data['Sex'])\n",
    "le_embarked = LabelEncoder()\n",
    "data['Embarked'] = le_embarked.fit_transform(data['Embarked'])\n",
    "print(\"\\nAfter label encoding 'Sex' and 'Embarked':\")\n",
    "print(data[['Sex', 'Embarked']].head())"
   ]
  },
  {
   "cell_type": "code",
   "execution_count": 16,
   "metadata": {},
   "outputs": [
    {
     "name": "stdout",
     "output_type": "stream",
     "text": [
      "   PassengerId  Survived  Pclass  \\\n",
      "0            1         0       3   \n",
      "1            2         1       1   \n",
      "2            3         1       3   \n",
      "3            4         1       1   \n",
      "4            5         0       3   \n",
      "\n",
      "                                                Name  Sex   Age  SibSp  Parch  \\\n",
      "0                            Braund, Mr. Owen Harris    1  22.0      1      0   \n",
      "1  Cumings, Mrs. John Bradley (Florence Briggs Th...    0  38.0      1      0   \n",
      "2                             Heikkinen, Miss. Laina    0  26.0      0      0   \n",
      "3       Futrelle, Mrs. Jacques Heath (Lily May Peel)    0  35.0      1      0   \n",
      "4                           Allen, Mr. William Henry    1  35.0      0      0   \n",
      "\n",
      "             Ticket     Fare Cabin  Embarked  FamilySize Title AgeGroup  \n",
      "0         A/5 21171   7.2500   NaN         2           2    Mr    Adult  \n",
      "1          PC 17599  71.2833   C85         0           2   Mrs    Adult  \n",
      "2  STON/O2. 3101282   7.9250   NaN         2           1  Miss    Adult  \n",
      "3            113803  53.1000  C123         2           2   Mrs    Adult  \n",
      "4            373450   8.0500   NaN         2           1    Mr    Adult  \n"
     ]
    }
   ],
   "source": [
    "# Display the first few rows of the updated dataset to verify the changes\n",
    "print(data.head())"
   ]
  }
 ],
 "metadata": {
  "kernelspec": {
   "display_name": "Python 3",
   "language": "python",
   "name": "python3"
  },
  "language_info": {
   "codemirror_mode": {
    "name": "ipython",
    "version": 3
   },
   "file_extension": ".py",
   "mimetype": "text/x-python",
   "name": "python",
   "nbconvert_exporter": "python",
   "pygments_lexer": "ipython3",
   "version": "3.10.7"
  }
 },
 "nbformat": 4,
 "nbformat_minor": 2
}
